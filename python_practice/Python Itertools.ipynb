{
 "cells": [
  {
   "cell_type": "markdown",
   "metadata": {},
   "source": [
    "# Python Itertools\n",
    "Python’s Itertool is a module that provides various functions that work on iterators to produce complex iterators. This module works as a fast, memory-efficient tool that is used either by themselves or in combination to form iterator algebra. "
   ]
  },
  {
   "cell_type": "code",
   "execution_count": 2,
   "metadata": {},
   "outputs": [
    {
     "name": "stdout",
     "output_type": "stream",
     "text": [
      "Result: 2 6 12\n",
      "Time taken by map function: 0.000045\n",
      "Result: 2 6 12 \n",
      "Time taken by for loop: 0.000260\n"
     ]
    }
   ],
   "source": [
    "import operator \n",
    "import time \n",
    "\n",
    "L1 = [1, 2, 3] \n",
    "L2 = [2, 3, 4] \n",
    "\n",
    "t1 = time.time() \n",
    "\n",
    "# Calculating result \n",
    "a, b, c = map(operator.mul, L1, L2) \n",
    "\n",
    "t2 = time.time() \n",
    "\n",
    "# Time taken by map function \n",
    "print(\"Result:\", a, b, c) \n",
    "print(\"Time taken by map function: %.6f\" %(t2 - t1)) \n",
    "\n",
    "# method 2\n",
    "t1 = time.time() \n",
    "\n",
    "# Calculating result usinf for loop \n",
    "print(\"Result:\", end = \" \") \n",
    "for i in range(3): \n",
    "\tprint(L1[i] * L2[i], end = \" \") \n",
    "\t\n",
    "# method 2\n",
    "t2 = time.time() \n",
    "print(\"\\nTime taken by for loop: %.6f\" %(t2 - t1)) \n"
   ]
  },
  {
   "cell_type": "markdown",
   "metadata": {},
   "source": [
    "### Infinite iterators"
   ]
  },
  {
   "cell_type": "markdown",
   "metadata": {},
   "source": [
    "count(start, step): This iterator starts printing from the “start” number and prints infinitely."
   ]
  },
  {
   "cell_type": "code",
   "execution_count": 3,
   "metadata": {},
   "outputs": [
    {
     "name": "stdout",
     "output_type": "stream",
     "text": [
      "5 10 15 20 25 30 "
     ]
    }
   ],
   "source": [
    "import itertools \n",
    "\n",
    "for i in itertools.count(5, 5): \n",
    "    if i == 35: \n",
    "        break\n",
    "    else: \n",
    "        print(i, end =\" \") \n"
   ]
  },
  {
   "cell_type": "markdown",
   "metadata": {},
   "source": [
    "cycle(iterable): This iterator prints all values in order from the passed container. It restarts printing from the beginning again when all elements are printed in a cyclic manner. "
   ]
  },
  {
   "cell_type": "code",
   "execution_count": 5,
   "metadata": {},
   "outputs": [
    {
     "name": "stdout",
     "output_type": "stream",
     "text": [
      "A B A B A B A B "
     ]
    }
   ],
   "source": [
    "import itertools  \n",
    "    \n",
    "count = 0\n",
    "\n",
    "for i in itertools.cycle('AB'):  \n",
    "    if count > 7:  \n",
    "        break\n",
    "    else:  \n",
    "        print(i, end = \" \")  \n",
    "        count += 1"
   ]
  },
  {
   "cell_type": "markdown",
   "metadata": {},
   "source": [
    "### Using next function."
   ]
  },
  {
   "cell_type": "code",
   "execution_count": 48,
   "metadata": {},
   "outputs": [
    {
     "name": "stdout",
     "output_type": "stream",
     "text": [
      "vaibhav is \n",
      "\n",
      "friend of mrunal vaibhav is \n",
      "\n",
      "friend of mrunal vaibhav is friend of mrunal vaibhav is \n",
      "\n",
      "friend of mrunal vaibhav is friend of mrunal vaibhav is friend of mrunal vaibhav is friend of mrunal vaibhav is "
     ]
    }
   ],
   "source": [
    "import itertools  \n",
    "    \n",
    "l = ['vaibhav', 'is', 'friend', 'of', 'mrunal']  \n",
    "    \n",
    "# defining iterator  \n",
    "iterators = itertools.cycle(l)  \n",
    "    \n",
    "for i in range(2):  \n",
    "    # Using next function  \n",
    "    print(next(iterators), end = \" \")\n",
    "\n",
    "print('\\n')\n",
    "    \n",
    "for i in range(5):  \n",
    "    # Using next function  \n",
    "    print(next(iterators), end = \" \")\n",
    "\n",
    "print('\\n')\n",
    "\n",
    "for i in range(10):  \n",
    "    # Using next function  \n",
    "    print(next(iterators), end = \" \")\n",
    "\n",
    "print('\\n')\n",
    "    \n",
    "for i in range(20):  \n",
    "    # Using next function  \n",
    "    print(next(iterators), end = \" \")\n"
   ]
  },
  {
   "cell_type": "markdown",
   "metadata": {},
   "source": [
    "### repeat(val, num): \n",
    "This iterator repeatedly prints the passed value infinite number of times. If the optional keyword num is mentioned, then it repeatedly prints num number of times. "
   ]
  },
  {
   "cell_type": "code",
   "execution_count": 15,
   "metadata": {},
   "outputs": [
    {
     "name": "stdout",
     "output_type": "stream",
     "text": [
      "Printing the numbers repeatedly : \n",
      "[25, 25, 25, 25]\n"
     ]
    }
   ],
   "source": [
    "# importing \"itertools\" for iterator operations \n",
    "import itertools \n",
    "\n",
    "# using repeat() to repeatedly print number \n",
    "print (\"Printing the numbers repeatedly : \") \n",
    "print (list(itertools.repeat(25, 4))) \n"
   ]
  },
  {
   "cell_type": "markdown",
   "metadata": {},
   "source": [
    "# Combinatoric iterators"
   ]
  },
  {
   "cell_type": "markdown",
   "metadata": {},
   "source": [
    "The recursive generators that are used to simplify combinatorial constructs such as permutations, combinations, and Cartesian products are called combinatoric iterators."
   ]
  },
  {
   "cell_type": "markdown",
   "metadata": {},
   "source": [
    "### Product():\n",
    "This tool computes the cartesian product of input iterables. To compute the product of an iterable with itself, we use the optional repeat keyword argument to specify the number of repetitions. The output of this function are tuples in sorted order. "
   ]
  },
  {
   "cell_type": "code",
   "execution_count": 17,
   "metadata": {},
   "outputs": [
    {
     "name": "stdout",
     "output_type": "stream",
     "text": [
      "The cartesian product using repeat:\n",
      "[(1, 1), (1, 2), (2, 1), (2, 2)]\n",
      "\n",
      "The cartesian product of the containers:\n",
      "[('Vaibhav', '2'), ('Gunvant', '2'), ('Saraf', '2')]\n",
      "\n",
      "The cartesian product of the containers:\n",
      "[('A', 3), ('A', 4), ('B', 3), ('B', 4)]\n"
     ]
    }
   ],
   "source": [
    "from itertools import product \n",
    "\n",
    "print(\"The cartesian product using repeat:\") \n",
    "print(list(product([1, 2], repeat = 2))) \n",
    "print() \n",
    "\n",
    "print(\"The cartesian product of the containers:\") \n",
    "print(list(product(['Vaibhav', 'Gunvant', 'Saraf'], '2'))) \n",
    "print() \n",
    "\n",
    "print(\"The cartesian product of the containers:\") \n",
    "print(list(product('AB', [3, 4]))) \n"
   ]
  },
  {
   "cell_type": "markdown",
   "metadata": {},
   "source": [
    "### Permutations():\n",
    "Permutations() as the name speaks for itself is used to generate all possible permutations of an iterable. All elements are treated as unique based on their position and not their values. This function takes an iterable and group_size, if the value of group_size is not specified or is equal to None then the value of group_size becomes length of the iterable. "
   ]
  },
  {
   "cell_type": "code",
   "execution_count": 21,
   "metadata": {},
   "outputs": [
    {
     "name": "stdout",
     "output_type": "stream",
     "text": [
      "All the permutations of the given list is:\n",
      "[(1, 'preksha'), ('preksha', 1)]\n",
      "\n",
      "All the permutations of the given string is:\n",
      "[('A', 'B'), ('B', 'A')]\n",
      "\n",
      "All the permutations of the given container is:\n",
      "[(0, 1), (0, 2), (1, 0), (1, 2), (2, 0), (2, 1)]\n"
     ]
    }
   ],
   "source": [
    "from itertools import permutations \n",
    "\n",
    "print (\"All the permutations of the given list is:\") \n",
    "print (list(permutations([1, 'preksha'], 2))) \n",
    "print() \n",
    "\n",
    "#Terminating iterators \n",
    "\n",
    "print (\"All the permutations of the given string is:\") \n",
    "print (list(permutations('AB'))) \n",
    "print() \n",
    "\n",
    "print (\"All the permutations of the given container is:\") \n",
    "print(list(permutations(range(3), 2))) "
   ]
  },
  {
   "cell_type": "markdown",
   "metadata": {},
   "source": [
    "### Combinations():\n",
    "This iterator prints all the possible combinations(without replacement) of the container passed in arguments in the specified group size in sorted order."
   ]
  },
  {
   "cell_type": "code",
   "execution_count": 27,
   "metadata": {},
   "outputs": [
    {
     "name": "stdout",
     "output_type": "stream",
     "text": [
      "All the combination of list in sorted order(without replacement) is:\n",
      "[('A', 2)]\n",
      "\n",
      "All the combination of string in sorted order(without replacement) is:\n",
      "[('p', 'r', 'e'), ('p', 'r', 'k'), ('p', 'r', 's'), ('p', 'r', 'h'), ('p', 'r', 'a'), ('p', 'e', 'k'), ('p', 'e', 's'), ('p', 'e', 'h'), ('p', 'e', 'a'), ('p', 'k', 's'), ('p', 'k', 'h'), ('p', 'k', 'a'), ('p', 's', 'h'), ('p', 's', 'a'), ('p', 'h', 'a'), ('r', 'e', 'k'), ('r', 'e', 's'), ('r', 'e', 'h'), ('r', 'e', 'a'), ('r', 'k', 's'), ('r', 'k', 'h'), ('r', 'k', 'a'), ('r', 's', 'h'), ('r', 's', 'a'), ('r', 'h', 'a'), ('e', 'k', 's'), ('e', 'k', 'h'), ('e', 'k', 'a'), ('e', 's', 'h'), ('e', 's', 'a'), ('e', 'h', 'a'), ('k', 's', 'h'), ('k', 's', 'a'), ('k', 'h', 'a'), ('s', 'h', 'a')]\n",
      "\n",
      "All the combination of list in sorted order(without replacement) is:\n",
      "[(0, 1), (0, 2), (0, 3), (0, 4), (1, 2), (1, 3), (1, 4), (2, 3), (2, 4), (3, 4)]\n"
     ]
    }
   ],
   "source": [
    "from itertools import combinations \n",
    "\n",
    "print (\"All the combination of list in sorted order(without replacement) is:\") \n",
    "print(list(combinations(['A', 2], 2))) \n",
    "print() \n",
    "\n",
    "print (\"All the combination of string in sorted order(without replacement) is:\") \n",
    "print(list(combinations('preksha', 3))) \n",
    "print() \n",
    "\n",
    "print (\"All the combination of list in sorted order(without replacement) is:\") \n",
    "print(list(combinations(range(5), 2))) \n"
   ]
  },
  {
   "cell_type": "markdown",
   "metadata": {},
   "source": [
    "### Combinations_with_replacement(): \n",
    "This function returns a subsequence of length n from the elements of the iterable where n is the argument that the function takes determining the length of the subsequences generated by the function. Individual elements may repeat itself in combinations_with_replacement function."
   ]
  },
  {
   "cell_type": "code",
   "execution_count": 33,
   "metadata": {},
   "outputs": [
    {
     "name": "stdout",
     "output_type": "stream",
     "text": [
      "All the combination of string in sorted order(with replacement) is:\n",
      "[('p', 'p', 'p'), ('p', 'p', 'r'), ('p', 'p', 'a'), ('p', 'p', 't'), ('p', 'p', 'i'), ('p', 'p', 'k'), ('p', 'p', 's'), ('p', 'p', 'h'), ('p', 'p', 'a'), ('p', 'r', 'r'), ('p', 'r', 'a'), ('p', 'r', 't'), ('p', 'r', 'i'), ('p', 'r', 'k'), ('p', 'r', 's'), ('p', 'r', 'h'), ('p', 'r', 'a'), ('p', 'a', 'a'), ('p', 'a', 't'), ('p', 'a', 'i'), ('p', 'a', 'k'), ('p', 'a', 's'), ('p', 'a', 'h'), ('p', 'a', 'a'), ('p', 't', 't'), ('p', 't', 'i'), ('p', 't', 'k'), ('p', 't', 's'), ('p', 't', 'h'), ('p', 't', 'a'), ('p', 'i', 'i'), ('p', 'i', 'k'), ('p', 'i', 's'), ('p', 'i', 'h'), ('p', 'i', 'a'), ('p', 'k', 'k'), ('p', 'k', 's'), ('p', 'k', 'h'), ('p', 'k', 'a'), ('p', 's', 's'), ('p', 's', 'h'), ('p', 's', 'a'), ('p', 'h', 'h'), ('p', 'h', 'a'), ('p', 'a', 'a'), ('r', 'r', 'r'), ('r', 'r', 'a'), ('r', 'r', 't'), ('r', 'r', 'i'), ('r', 'r', 'k'), ('r', 'r', 's'), ('r', 'r', 'h'), ('r', 'r', 'a'), ('r', 'a', 'a'), ('r', 'a', 't'), ('r', 'a', 'i'), ('r', 'a', 'k'), ('r', 'a', 's'), ('r', 'a', 'h'), ('r', 'a', 'a'), ('r', 't', 't'), ('r', 't', 'i'), ('r', 't', 'k'), ('r', 't', 's'), ('r', 't', 'h'), ('r', 't', 'a'), ('r', 'i', 'i'), ('r', 'i', 'k'), ('r', 'i', 's'), ('r', 'i', 'h'), ('r', 'i', 'a'), ('r', 'k', 'k'), ('r', 'k', 's'), ('r', 'k', 'h'), ('r', 'k', 'a'), ('r', 's', 's'), ('r', 's', 'h'), ('r', 's', 'a'), ('r', 'h', 'h'), ('r', 'h', 'a'), ('r', 'a', 'a'), ('a', 'a', 'a'), ('a', 'a', 't'), ('a', 'a', 'i'), ('a', 'a', 'k'), ('a', 'a', 's'), ('a', 'a', 'h'), ('a', 'a', 'a'), ('a', 't', 't'), ('a', 't', 'i'), ('a', 't', 'k'), ('a', 't', 's'), ('a', 't', 'h'), ('a', 't', 'a'), ('a', 'i', 'i'), ('a', 'i', 'k'), ('a', 'i', 's'), ('a', 'i', 'h'), ('a', 'i', 'a'), ('a', 'k', 'k'), ('a', 'k', 's'), ('a', 'k', 'h'), ('a', 'k', 'a'), ('a', 's', 's'), ('a', 's', 'h'), ('a', 's', 'a'), ('a', 'h', 'h'), ('a', 'h', 'a'), ('a', 'a', 'a'), ('t', 't', 't'), ('t', 't', 'i'), ('t', 't', 'k'), ('t', 't', 's'), ('t', 't', 'h'), ('t', 't', 'a'), ('t', 'i', 'i'), ('t', 'i', 'k'), ('t', 'i', 's'), ('t', 'i', 'h'), ('t', 'i', 'a'), ('t', 'k', 'k'), ('t', 'k', 's'), ('t', 'k', 'h'), ('t', 'k', 'a'), ('t', 's', 's'), ('t', 's', 'h'), ('t', 's', 'a'), ('t', 'h', 'h'), ('t', 'h', 'a'), ('t', 'a', 'a'), ('i', 'i', 'i'), ('i', 'i', 'k'), ('i', 'i', 's'), ('i', 'i', 'h'), ('i', 'i', 'a'), ('i', 'k', 'k'), ('i', 'k', 's'), ('i', 'k', 'h'), ('i', 'k', 'a'), ('i', 's', 's'), ('i', 's', 'h'), ('i', 's', 'a'), ('i', 'h', 'h'), ('i', 'h', 'a'), ('i', 'a', 'a'), ('k', 'k', 'k'), ('k', 'k', 's'), ('k', 'k', 'h'), ('k', 'k', 'a'), ('k', 's', 's'), ('k', 's', 'h'), ('k', 's', 'a'), ('k', 'h', 'h'), ('k', 'h', 'a'), ('k', 'a', 'a'), ('s', 's', 's'), ('s', 's', 'h'), ('s', 's', 'a'), ('s', 'h', 'h'), ('s', 'h', 'a'), ('s', 'a', 'a'), ('h', 'h', 'h'), ('h', 'h', 'a'), ('h', 'a', 'a'), ('a', 'a', 'a')]\n",
      "\n",
      "All the combination of list in sorted order(with replacement) is:\n",
      "[(1, 1), (1, 2), (1, 3), (2, 2), (2, 3), (3, 3)]\n",
      "\n",
      "All the combination of container in sorted order(with replacement) is:\n",
      "[(0, 0), (0, 1), (0, 2), (0, 3), (0, 4), (1, 1), (1, 2), (1, 3), (1, 4), (2, 2), (2, 3), (2, 4), (3, 3), (3, 4), (4, 4)]\n"
     ]
    }
   ],
   "source": [
    "from itertools import combinations_with_replacement \n",
    "\n",
    "print (\"All the combination of string in sorted order(with replacement) is:\") \n",
    "print(list(combinations_with_replacement(\"pratiksha\", 3))) \n",
    "print() \n",
    "\n",
    "print (\"All the combination of list in sorted order(with replacement) is:\") \n",
    "print(list(combinations_with_replacement([1, 2, 3], 2))) \n",
    "print() \n",
    "\n",
    "print (\"All the combination of container in sorted order(with replacement) is:\") \n",
    "print(list(combinations_with_replacement(range(5), 2)))"
   ]
  },
  {
   "cell_type": "markdown",
   "metadata": {},
   "source": [
    "# Terminating iterators"
   ]
  },
  {
   "cell_type": "markdown",
   "metadata": {},
   "source": [
    "Terminating iterators are used to work on the short input sequences and produce the output based on the functionality of the method used."
   ]
  },
  {
   "cell_type": "markdown",
   "metadata": {},
   "source": [
    "## accumulate(iter, func):\n",
    "This iterator takes two arguments, iterable target and the function which would be followed at each iteration of value in target. If no function is passed, addition takes place by default. If the input iterable is empty, the output iterable will also be empty. "
   ]
  },
  {
   "cell_type": "code",
   "execution_count": 34,
   "metadata": {},
   "outputs": [
    {
     "name": "stdout",
     "output_type": "stream",
     "text": [
      "The sum after each iteration is : [1, 5, 10, 17]\n",
      "The product after each iteration is : [1, 4, 20, 140]\n",
      "The sum after each iteration is : [1, 5, 10, 17]\n",
      "The product after each iteration is : [1, 4, 20, 140]\n"
     ]
    }
   ],
   "source": [
    "# Python code to demonstrate the working of \n",
    "# accumulate() \n",
    "\n",
    "\n",
    "import itertools \n",
    "import operator \n",
    "\n",
    "# initializing list 1 \n",
    "li1 = [1, 4, 5, 7] \n",
    "\n",
    "# using accumulate() \n",
    "# prints the successive summation of elements \n",
    "print (\"The sum after each iteration is : \", end =\"\") \n",
    "print (list(itertools.accumulate(li1))) \n",
    "\n",
    "# using accumulate() \n",
    "# prints the successive multiplication of elements \n",
    "print (\"The product after each iteration is : \", end =\"\") \n",
    "print (list(itertools.accumulate(li1, operator.mul))) \n",
    "\n",
    "# using accumulate() \n",
    "# prints the successive summation of elements \n",
    "print (\"The sum after each iteration is : \", end =\"\") \n",
    "print (list(itertools.accumulate(li1))) \n",
    "\n",
    "# using accumulate() \n",
    "# prints the successive multiplication of elements \n",
    "print (\"The product after each iteration is : \", end =\"\") \n",
    "print (list(itertools.accumulate(li1, operator.mul))) \n"
   ]
  },
  {
   "cell_type": "markdown",
   "metadata": {},
   "source": [
    "## chain(iter1, iter2..):\n",
    "    This function is used to print all the values in iterable targets one after another mentioned in its arguments. "
   ]
  },
  {
   "cell_type": "code",
   "execution_count": 36,
   "metadata": {},
   "outputs": [
    {
     "name": "stdout",
     "output_type": "stream",
     "text": [
      "All values in mentioned chain are : [1, 4, 5, 7, 1, 6, 5, 9, 8, 10, 5, 4]\n"
     ]
    }
   ],
   "source": [
    "# Python code to demonstrate the working of \n",
    "# and chain() \n",
    "\n",
    "import itertools \n",
    "\n",
    "# initializing list 1 \n",
    "li1 = [1, 4, 5, 7] \n",
    "\n",
    "# initializing list 2 \n",
    "li2 = [1, 6, 5, 9] \n",
    "\n",
    "# initializing list 3 \n",
    "li3 = [8, 10, 5, 4] \n",
    "\n",
    "# using chain() to print all elements of lists \n",
    "print (\"All values in mentioned chain are : \", end =\"\") \n",
    "print (list(itertools.chain(li1, li2, li3))) \n"
   ]
  },
  {
   "cell_type": "markdown",
   "metadata": {},
   "source": [
    "## chain.from_iterable(): \n",
    "    This function is implemented similarly as chain() but the argument here is a list of lists or any other iterable container. "
   ]
  },
  {
   "cell_type": "code",
   "execution_count": 37,
   "metadata": {},
   "outputs": [
    {
     "name": "stdout",
     "output_type": "stream",
     "text": [
      "All values in mentioned chain are : [1, 4, 5, 7, 1, 6, 5, 9, 8, 10, 5, 4]\n"
     ]
    }
   ],
   "source": [
    "# Python code to demonstrate the working of \n",
    "# chain.from_iterable() \n",
    "\n",
    "\n",
    "import itertools \n",
    "\n",
    "\n",
    "# initializing list 1 \n",
    "li1 = [1, 4, 5, 7] \n",
    "\n",
    "# initializing list 2 \n",
    "li2 = [1, 6, 5, 9] \n",
    "\n",
    "# initializing list 3 \n",
    "li3 = [8, 10, 5, 4] \n",
    "\n",
    "# intializing list of list \n",
    "li4 = [li1, li2, li3] \n",
    "\n",
    "# using chain.from_iterable() to print all elements of lists \n",
    "print (\"All values in mentioned chain are : \", end =\"\") \n",
    "print (list(itertools.chain.from_iterable(li4))) \n"
   ]
  },
  {
   "cell_type": "markdown",
   "metadata": {},
   "source": [
    "### compress(iter, selector): \n",
    "    This iterator selectively picks the values to print from the passed container according to the boolean list value passed as other arguments. The arguments corresponding to boolean true are printed else all are skipped. "
   ]
  },
  {
   "cell_type": "code",
   "execution_count": 38,
   "metadata": {},
   "outputs": [
    {
     "name": "stdout",
     "output_type": "stream",
     "text": [
      "The compressed values in string are : ['V', 'A', 'A']\n"
     ]
    }
   ],
   "source": [
    "# Python code to demonstrate the working of \n",
    "# and compress() \n",
    "\n",
    "import itertools \n",
    "\n",
    "\n",
    "# using compress() selectively print data values \n",
    "print (\"The compressed values in string are : \", end =\"\") \n",
    "print (list(itertools.compress('VAIBHAVSARAF', [1, 0, 0, 0, 0, 1, 0, 0, 1, 0, 0, 0, 0]))) "
   ]
  },
  {
   "cell_type": "markdown",
   "metadata": {},
   "source": [
    "### dropwhile(func, seq):\n",
    "    This iterator starts printing the characters only after the func. in argument returns false for the first time. "
   ]
  },
  {
   "cell_type": "code",
   "execution_count": 39,
   "metadata": {},
   "outputs": [
    {
     "name": "stdout",
     "output_type": "stream",
     "text": [
      "The values after condition returns false : [5, 7, 8]\n"
     ]
    }
   ],
   "source": [
    "# Python code to demonstrate the working of \n",
    "# dropwhile() \n",
    "\n",
    "\n",
    "import itertools \n",
    "\n",
    "\n",
    "# initializing list \n",
    "li = [2, 4, 5, 7, 8] \n",
    "\n",
    "# using dropwhile() to start displaying after condition is false \n",
    "print (\"The values after condition returns false : \", end =\"\") \n",
    "print (list(itertools.dropwhile(lambda x : x % 2 == 0, li))) \n"
   ]
  },
  {
   "cell_type": "markdown",
   "metadata": {},
   "source": [
    "### filterfalse(func, seq):\n",
    "    As the name suggests, this iterator prints only values that return false for the passed function. "
   ]
  },
  {
   "cell_type": "code",
   "execution_count": 41,
   "metadata": {},
   "outputs": [
    {
     "name": "stdout",
     "output_type": "stream",
     "text": [
      "The values that return false to function are : [5, 7]\n"
     ]
    }
   ],
   "source": [
    "# Python code to demonstrate the working of \n",
    "# filterfalse() \n",
    "\n",
    "\n",
    "import itertools \n",
    "\n",
    "# initializing list \n",
    "li = [2, 4, 5, 7, 8] \n",
    "\n",
    "# using filterfalse() to print false values \n",
    "print (\"The values that return false to function are : \", end =\"\") \n",
    "print (list(itertools.filterfalse(lambda x : x % 2 == 0, li))) \n"
   ]
  },
  {
   "cell_type": "markdown",
   "metadata": {},
   "source": [
    "### islice(iterable, start, stop, step):\n",
    "    This iterator selectively prints the values mentioned in its iterable container passed as argument. This iterator takes 4 arguments, iterable container, starting pos., ending position and step. "
   ]
  },
  {
   "cell_type": "code",
   "execution_count": 42,
   "metadata": {},
   "outputs": [
    {
     "name": "stdout",
     "output_type": "stream",
     "text": [
      "The sliced list values are : [4, 7, 10]\n"
     ]
    }
   ],
   "source": [
    "# Python code to demonstrate the working of \n",
    "# islice() \n",
    "\n",
    "import itertools \n",
    "\n",
    "# initializing list \n",
    "li = [2, 4, 5, 7, 8, 10, 20] \n",
    "\n",
    "# using islice() to slice the list acc. to need \n",
    "# starts printing from 2nd index till 6th skipping 2 \n",
    "print (\"The sliced list values are : \", end =\"\") \n",
    "print (list(itertools.islice(li, 1, 6, 2))) \n"
   ]
  },
  {
   "cell_type": "markdown",
   "metadata": {},
   "source": [
    "### starmap(func., tuple list):\n",
    "    This iterator takes a function and tuple list as argument and returns the value according to the function from each tuple of list. "
   ]
  },
  {
   "cell_type": "code",
   "execution_count": 43,
   "metadata": {},
   "outputs": [
    {
     "name": "stdout",
     "output_type": "stream",
     "text": [
      "The values acc. to function are : [1, 1, 4, 1]\n"
     ]
    }
   ],
   "source": [
    "# Python code to demonstrate the working of \n",
    "# starmap() \n",
    "\n",
    "\n",
    "import itertools \n",
    "\n",
    "\n",
    "# initializing tuple list \n",
    "li = [ (1, 10, 5), (8, 4, 1), (5, 4, 9), (11, 10, 1) ] \n",
    "\n",
    "# using starmap() for selection value acc. to function \n",
    "# selects min of all tuple values \n",
    "print (\"The values acc. to function are : \", end =\"\") \n",
    "print (list(itertools.starmap(min, li))) \n"
   ]
  },
  {
   "cell_type": "markdown",
   "metadata": {},
   "source": [
    "### takewhile(func, iterable):\n",
    "    This iterator is opposite of dropwhile(), it prints the values till the function returns false for 1st time. "
   ]
  },
  {
   "cell_type": "code",
   "execution_count": 44,
   "metadata": {},
   "outputs": [
    {
     "name": "stdout",
     "output_type": "stream",
     "text": [
      "The list values till 1st false value are : [2, 4, 6]\n"
     ]
    }
   ],
   "source": [
    "# Python code to demonstrate the working of \n",
    "# takewhile() \n",
    "\n",
    "\n",
    "import itertools \n",
    "\n",
    "# initializing list \n",
    "li = [2, 4, 6, 7, 8, 10, 20] \n",
    "\n",
    "# using takewhile() to print values till condition is false. \n",
    "print (\"The list values till 1st false value are : \", end =\"\") \n",
    "print (list(itertools.takewhile(lambda x : x % 2 == 0, li ))) \n"
   ]
  },
  {
   "cell_type": "markdown",
   "metadata": {},
   "source": [
    "### tee(iterator, count):- \n",
    "    This iterator splits the container into a number of iterators mentioned in the argument. "
   ]
  },
  {
   "cell_type": "code",
   "execution_count": 45,
   "metadata": {},
   "outputs": [
    {
     "name": "stdout",
     "output_type": "stream",
     "text": [
      "The iterators are : \n",
      "[2, 4, 6, 7, 8, 10, 20]\n",
      "[2, 4, 6, 7, 8, 10, 20]\n",
      "[2, 4, 6, 7, 8, 10, 20]\n"
     ]
    }
   ],
   "source": [
    "# Python code to demonstrate the working of \n",
    "# tee() \n",
    "\n",
    "\n",
    "import itertools \n",
    "\n",
    "# initializing list \n",
    "li = [2, 4, 6, 7, 8, 10, 20] \n",
    "\n",
    "# storing list in iterator \n",
    "iti = iter(li) \n",
    "\n",
    "# using tee() to make a list of iterators \n",
    "# makes list of 3 iterators having same values. \n",
    "it = itertools.tee(iti, 3) \n",
    "\n",
    "# printing the values of iterators \n",
    "print (\"The iterators are : \") \n",
    "for i in range (0, 3): \n",
    "    print (list(it[i])) \n"
   ]
  },
  {
   "cell_type": "markdown",
   "metadata": {},
   "source": [
    "### zip_longest( iterable1, iterable2, fillval):\n",
    "    This iterator prints the values of iterables alternatively in sequence. If one of the iterables is printed fully, remaining values are filled by the values assigned to fillvalue. "
   ]
  },
  {
   "cell_type": "code",
   "execution_count": 47,
   "metadata": {},
   "outputs": [
    {
     "name": "stdout",
     "output_type": "stream",
     "text": [
      "The combined values of iterables is : \n",
      "('v', 's') ('a', 'a') ('i', 'r') ('b', 'a') ('h', 'f') ('a', '_') ('v', '_')\n"
     ]
    }
   ],
   "source": [
    "# zip_longest() \n",
    "import itertools \n",
    "\n",
    "# using zip_longest() to combine two iterables. \n",
    "print (\"The combined values of iterables is : \") \n",
    "print (*(itertools.zip_longest('vaibhav', 'saraf', fillvalue ='_' ))) \n"
   ]
  },
  {
   "cell_type": "code",
   "execution_count": null,
   "metadata": {},
   "outputs": [],
   "source": []
  }
 ],
 "metadata": {
  "kernelspec": {
   "display_name": "Python 3",
   "language": "python",
   "name": "python3"
  },
  "language_info": {
   "codemirror_mode": {
    "name": "ipython",
    "version": 3
   },
   "file_extension": ".py",
   "mimetype": "text/x-python",
   "name": "python",
   "nbconvert_exporter": "python",
   "pygments_lexer": "ipython3",
   "version": "3.7.4"
  }
 },
 "nbformat": 4,
 "nbformat_minor": 4
}
